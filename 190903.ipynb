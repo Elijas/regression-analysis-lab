{
 "cells": [
  {
   "cell_type": "code",
   "execution_count": 1,
   "metadata": {},
   "outputs": [],
   "source": [
    "set.seed(190903)"
   ]
  },
  {
   "cell_type": "markdown",
   "metadata": {},
   "source": [
    "# Labor. darbas (1)\n",
    "# Ⅰ\n",
    "# ①"
   ]
  },
  {
   "cell_type": "code",
   "execution_count": 2,
   "metadata": {
    "scrolled": false
   },
   "outputs": [
    {
     "data": {
      "image/png": "[encoded data removed]",
      "text/plain": [
       "plot without title"
      ]
     },
     "metadata": {},
     "output_type": "display_data"
    }
   ],
   "source": [
    "N = 100\n",
    "x = runif(N, min = 0, max = 3)   # x(1), ..., x(N)\n",
    "e = rnorm(N, mean = 0, sd = .2)  # e(1), ..., e(N)\n",
    "a = .5\n",
    "b = .8\n",
    "\n",
    "y = a + b * x + e\n",
    "\n",
    "plot(x, y, ylim=c(0, 3.5), yaxs=\"i\", xaxs=\"i\", pch=21, bg=\"lightgreen\")"
   ]
  },
  {
   "cell_type": "markdown",
   "metadata": {},
   "source": [
    "# ②"
   ]
  },
  {
   "cell_type": "code",
   "execution_count": 42,
   "metadata": {},
   "outputs": [
    {
     "data": {
      "text/html": [
       "<dl class=dl-horizontal>\n",
       "\t<dt>a tikroji reiksme</dt>\n",
       "\t\t<dd>0.5</dd>\n",
       "\t<dt>b tikroji reiksme</dt>\n",
       "\t\t<dd>0.8</dd>\n",
       "</dl>\n"
      ],
      "text/latex": [
       "\\begin{description*}\n",
       "\\item[a tikroji reiksme] 0.5\n",
       "\\item[b tikroji reiksme] 0.8\n",
       "\\end{description*}\n"
      ],
      "text/markdown": [
       "a tikroji reiksme\n",
       ":   0.5b tikroji reiksme\n",
       ":   0.8\n",
       "\n"
      ],
      "text/plain": [
       "a tikroji reiksme b tikroji reiksme \n",
       "              0.5               0.8 "
      ]
     },
     "metadata": {},
     "output_type": "display_data"
    },
    {
     "data": {
      "text/html": [
       "<dl class=dl-horizontal>\n",
       "\t<dt>a ivertis</dt>\n",
       "\t\t<dd>1.07122027513353</dd>\n",
       "\t<dt>b ivertis</dt>\n",
       "\t\t<dd>0.411422063795179</dd>\n",
       "</dl>\n"
      ],
      "text/latex": [
       "\\begin{description*}\n",
       "\\item[a ivertis] 1.07122027513353\n",
       "\\item[b ivertis] 0.411422063795179\n",
       "\\end{description*}\n"
      ],
      "text/markdown": [
       "a ivertis\n",
       ":   1.07122027513353b ivertis\n",
       ":   0.411422063795179\n",
       "\n"
      ],
      "text/plain": [
       "a ivertis b ivertis \n",
       "1.0712203 0.4114221 "
      ]
     },
     "metadata": {},
     "output_type": "display_data"
    },
    {
     "data": {
      "text/html": [
       "<dl class=dl-horizontal>\n",
       "\t<dt>a.ivert - a.tikr</dt>\n",
       "\t\t<dd>0.571220275133532</dd>\n",
       "\t<dt>b ivert - b.tikr</dt>\n",
       "\t\t<dd>-0.388577936204822</dd>\n",
       "</dl>\n"
      ],
      "text/latex": [
       "\\begin{description*}\n",
       "\\item[a.ivert - a.tikr] 0.571220275133532\n",
       "\\item[b ivert - b.tikr] -0.388577936204822\n",
       "\\end{description*}\n"
      ],
      "text/markdown": [
       "a.ivert - a.tikr\n",
       ":   0.571220275133532b ivert - b.tikr\n",
       ":   -0.388577936204822\n",
       "\n"
      ],
      "text/plain": [
       "a.ivert - a.tikr b ivert - b.tikr \n",
       "       0.5712203       -0.3885779 "
      ]
     },
     "metadata": {},
     "output_type": "display_data"
    }
   ],
   "source": [
    "c('a tikroji reiksme'=a, 'b tikroji reiksme'=b)\n",
    "\n",
    "x.deltasq = mean(x^2) - mean(x)\n",
    "b.est = cov(x, y) / x.deltasq\n",
    "a.est = mean(y) - b.est * mean(x)\n",
    "c('a ivertis'=a.est, 'b ivertis'=b.est)\n",
    "\n",
    "b.est.delta = 3\n",
    "c('a.ivert - a.tikr'=a.est - a, 'b ivert - b.tikr'=b.est - b)"
   ]
  },
  {
   "cell_type": "markdown",
   "metadata": {},
   "source": [
    "# Ⅱ"
   ]
  },
  {
   "cell_type": "code",
   "execution_count": null,
   "metadata": {},
   "outputs": [],
   "source": []
  }
 ],
 "metadata": {
  "kernelspec": {
   "display_name": "R",
   "language": "R",
   "name": "ir"
  },
  "language_info": {
   "codemirror_mode": "r",
   "file_extension": ".r",
   "mimetype": "text/x-r-source",
   "name": "R",
   "pygments_lexer": "r",
   "version": "3.5.1"
  }
 },
 "nbformat": 4,
 "nbformat_minor": 2
}
