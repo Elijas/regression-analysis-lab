{
 "cells": [
  {
   "cell_type": "code",
   "execution_count": 2,
   "metadata": {},
   "outputs": [],
   "source": [
    "set.seed(777)\n",
    "invisible(Sys.setlocale(locale=\"lithuanian\"))\n",
    "options(repr.plot.width=8, repr.plot.height=4)"
   ]
  },
  {
   "cell_type": "markdown",
   "metadata": {},
   "source": [
    "# <center> Labor. darbas (2) </center>\n",
    "\n",
    "Elijas Dapšauskas\n",
    "\n",
    "---\n",
    "\n",
    "# 1."
   ]
  },
  {
   "cell_type": "code",
   "execution_count": 21,
   "metadata": {},
   "outputs": [],
   "source": [
    "beta.0 = runif(n=1, min=0, max=5)\n",
    "beta.1 = runif(n=1, min=1/3, max=3)\n",
    "n = 4\n",
    "T = 1:n"
   ]
  },
  {
   "cell_type": "code",
   "execution_count": 20,
   "metadata": {},
   "outputs": [
    {
     "ename": "ERROR",
     "evalue": "Error in model.frame.default(formula = Y ~ T, drop.unused.levels = TRUE): variable lengths differ (found for 'T')\n",
     "output_type": "error",
     "traceback": [
      "Error in model.frame.default(formula = Y ~ T, drop.unused.levels = TRUE): variable lengths differ (found for 'T')\nTraceback:\n",
      "1. lm(Y ~ T)",
      "2. eval(mf, parent.frame())",
      "3. eval(mf, parent.frame())",
      "4. stats::model.frame(formula = Y ~ T, drop.unused.levels = TRUE)",
      "5. model.frame.default(formula = Y ~ T, drop.unused.levels = TRUE)"
     ]
    }
   ],
   "source": [
    "e.mean = 0\n",
    "e.sd = runif(n=1, min=1, max=4)\n",
    "E = rnorm(n=length(t), mean=e.mean, sd=e.sd)\n",
    "C = lm(Y ~ T)$coefficients\n",
    "X = matrix(rbind(c(1,1,1,1,1), \n",
    "                 0:4))\n",
    "beta = c(beta.0, beta.1)\n",
    "Y = X %*% beta + E\n",
    "b.est = solve(t(X) %*% X) %*% (t(X) %*% Y)"
   ]
  },
  {
   "cell_type": "code",
   "execution_count": 319,
   "metadata": {},
   "outputs": [
    {
     "data": {
      "text/html": [
       "<dl class=dl-horizontal>\n",
       "\t<dt>(Intercept)</dt>\n",
       "\t\t<dd>2.8827809812897</dd>\n",
       "\t<dt>x</dt>\n",
       "\t\t<dd>2.57743675190704</dd>\n",
       "\t<dt>x2</dt>\n",
       "\t\t<dd>-0.322655754805315</dd>\n",
       "\t<dt>x3</dt>\n",
       "\t\t<dd>0.0182309084790346</dd>\n",
       "</dl>\n"
      ],
      "text/latex": [
       "\\begin{description*}\n",
       "\\item[(Intercept)] 2.8827809812897\n",
       "\\item[x] 2.57743675190704\n",
       "\\item[x2] -0.322655754805315\n",
       "\\item[x3] 0.0182309084790346\n",
       "\\end{description*}\n"
      ],
      "text/markdown": [
       "(Intercept)\n",
       ":   2.8827809812897x\n",
       ":   2.57743675190704x2\n",
       ":   -0.322655754805315x3\n",
       ":   0.0182309084790346\n",
       "\n"
      ],
      "text/plain": [
       "(Intercept)           x          x2          x3 \n",
       " 2.88278098  2.57743675 -0.32265575  0.01823091 "
      ]
     },
     "metadata": {},
     "output_type": "display_data"
    },
    {
     "data": {
      "image/png": "[encoded data removed]",
      "text/plain": [
       "plot without title"
      ]
     },
     "metadata": {},
     "output_type": "display_data"
    }
   ],
   "source": [
    "lapp\n",
    "T = runif(n=t.n, min=t.min, max=t.max)\n",
    "E = rnorm(n=t.n, mean=e.mean, sd=e.sd)\n",
    "Y = round(beta.0 + beta.1 * T + E, 0)\n",
    "mkm <- lm(y ~ x + x2 + x3, data=data.frame(y=Y, x=T, x2=T^2, x3=T^3))\n",
    "mkm$coefficients\n",
    "plot(T, Y, yaxs=\"i\", xaxs=\"i\", pch=21, bg=\"lightgreen\",\n",
    "     ylim=c(min(Y, 0), max(Y) + 0.5*diff(range(Y))), \n",
    "     xlim=c(min(T) - 0.1*diff(range(T)), max(T) + 0.1*diff(range(T))))\n",
    "x=seq(min(T),max(T),0.01)\n",
    "y =c(mkm$coefficients[1] + x * mkm$coefficients[2] + x^2 * mkm$coefficients[3] + x^3 *mkm$coefficients[4])\n",
    "lines(x, y)"
   ]
  },
  {
   "cell_type": "code",
   "execution_count": 318,
   "metadata": {
    "scrolled": false
   },
   "outputs": [
    {
     "data": {
      "text/html": [
       "<dl class=dl-horizontal>\n",
       "\t<dt>(Intercept)</dt>\n",
       "\t\t<dd>1.13189828865326</dd>\n",
       "\t<dt>x</dt>\n",
       "\t\t<dd>-0.0258987251713806</dd>\n",
       "\t<dt>x2</dt>\n",
       "\t\t<dd>0.11390914744154</dd>\n",
       "\t<dt>x3</dt>\n",
       "\t\t<dd>-0.00856750917795758</dd>\n",
       "</dl>\n"
      ],
      "text/latex": [
       "\\begin{description*}\n",
       "\\item[(Intercept)] 1.13189828865326\n",
       "\\item[x] -0.0258987251713806\n",
       "\\item[x2] 0.11390914744154\n",
       "\\item[x3] -0.00856750917795758\n",
       "\\end{description*}\n"
      ],
      "text/markdown": [
       "(Intercept)\n",
       ":   1.13189828865326x\n",
       ":   -0.0258987251713806x2\n",
       ":   0.11390914744154x3\n",
       ":   -0.00856750917795758\n",
       "\n"
      ],
      "text/plain": [
       " (Intercept)            x           x2           x3 \n",
       " 1.131898289 -0.025898725  0.113909147 -0.008567509 "
      ]
     },
     "metadata": {},
     "output_type": "display_data"
    },
    {
     "data": {
      "image/png": "[encoded data removed]",
      "text/plain": [
       "plot without title"
      ]
     },
     "metadata": {},
     "output_type": "display_data"
    }
   ],
   "source": []
  },
  {
   "cell_type": "markdown",
   "metadata": {},
   "source": [
    "---\n",
    "\n",
    "# 2."
   ]
  },
  {
   "cell_type": "code",
   "execution_count": null,
   "metadata": {},
   "outputs": [],
   "source": []
  }
 ],
 "metadata": {
  "kernelspec": {
   "display_name": "R",
   "language": "R",
   "name": "ir"
  },
  "language_info": {
   "codemirror_mode": "r",
   "file_extension": ".r",
   "mimetype": "text/x-r-source",
   "name": "R",
   "pygments_lexer": "r",
   "version": "3.5.2"
  }
 },
 "nbformat": 4,
 "nbformat_minor": 2
}
