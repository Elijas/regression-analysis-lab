{
 "cells": [
  {
   "cell_type": "code",
   "execution_count": 57,
   "metadata": {},
   "outputs": [],
   "source": [
    "set.seed(190903)\n",
    "invisible(Sys.setlocale(locale=\"lithuanian\"))\n",
    "options(repr.plot.width=8, repr.plot.height=4)"
   ]
  },
  {
   "cell_type": "markdown",
   "metadata": {},
   "source": [
    "# <center> Labor. darbas (1) </center>\n",
    "\n",
    "---\n",
    "\n",
    "# Ⅰ"
   ]
  },
  {
   "cell_type": "code",
   "execution_count": 58,
   "metadata": {},
   "outputs": [],
   "source": [
    "N = 100\n",
    "a = .5\n",
    "b = .4\n",
    "\n",
    "x.min = 0\n",
    "x.max = 3\n",
    "e.mean = 0\n",
    "e.sd = .2"
   ]
  },
  {
   "cell_type": "code",
   "execution_count": 59,
   "metadata": {},
   "outputs": [
    {
     "data": {
      "text/html": [
       "<ol class=list-inline>\n",
       "\t<li>1.30342109757476</li>\n",
       "\t<li>0.853453169111162</li>\n",
       "\t<li>0.0336713064461946</li>\n",
       "\t<li>1.88246940867975</li>\n",
       "\t<li>0.515158943133429</li>\n",
       "\t<li>0.146216933615506</li>\n",
       "</ol>\n"
      ],
      "text/latex": [
       "\\begin{enumerate*}\n",
       "\\item 1.30342109757476\n",
       "\\item 0.853453169111162\n",
       "\\item 0.0336713064461946\n",
       "\\item 1.88246940867975\n",
       "\\item 0.515158943133429\n",
       "\\item 0.146216933615506\n",
       "\\end{enumerate*}\n"
      ],
      "text/markdown": [
       "1. 1.30342109757476\n",
       "2. 0.853453169111162\n",
       "3. 0.0336713064461946\n",
       "4. 1.88246940867975\n",
       "5. 0.515158943133429\n",
       "6. 0.146216933615506\n",
       "\n",
       "\n"
      ],
      "text/plain": [
       "[1] 1.30342110 0.85345317 0.03367131 1.88246941 0.51515894 0.14621693"
      ]
     },
     "metadata": {},
     "output_type": "display_data"
    },
    {
     "data": {
      "text/plain": [
       "   Min. 1st Qu.  Median    Mean 3rd Qu.    Max. \n",
       "0.03367 0.85290 1.39205 1.47289 2.18162 2.99996 "
      ]
     },
     "metadata": {},
     "output_type": "display_data"
    },
    {
     "data": {
      "text/html": [
       "<ol class=list-inline>\n",
       "\t<li>0.0993475847713076</li>\n",
       "\t<li>0.00371798051691453</li>\n",
       "\t<li>-0.15548365344501</li>\n",
       "\t<li>-0.114958445353844</li>\n",
       "\t<li>0.0812384126975328</li>\n",
       "\t<li>-0.210270291338383</li>\n",
       "</ol>\n"
      ],
      "text/latex": [
       "\\begin{enumerate*}\n",
       "\\item 0.0993475847713076\n",
       "\\item 0.00371798051691453\n",
       "\\item -0.15548365344501\n",
       "\\item -0.114958445353844\n",
       "\\item 0.0812384126975328\n",
       "\\item -0.210270291338383\n",
       "\\end{enumerate*}\n"
      ],
      "text/markdown": [
       "1. 0.0993475847713076\n",
       "2. 0.00371798051691453\n",
       "3. -0.15548365344501\n",
       "4. -0.114958445353844\n",
       "5. 0.0812384126975328\n",
       "6. -0.210270291338383\n",
       "\n",
       "\n"
      ],
      "text/plain": [
       "[1]  0.099347585  0.003717981 -0.155483653 -0.114958445  0.081238413\n",
       "[6] -0.210270291"
      ]
     },
     "metadata": {},
     "output_type": "display_data"
    },
    {
     "data": {
      "text/plain": [
       "     Min.   1st Qu.    Median      Mean   3rd Qu.      Max. \n",
       "-0.551434 -0.151756 -0.022051 -0.001111  0.137645  0.555294 "
      ]
     },
     "metadata": {},
     "output_type": "display_data"
    }
   ],
   "source": [
    "x = runif(N, min = x.min, max = x.max)   # x(1), ..., x(N)\n",
    "e = rnorm(N, mean = e.mean, sd = e.sd)   # e(1), ..., e(N)\n",
    "\n",
    "# Show result\n",
    "head(x)\n",
    "summary(x)\n",
    "head(e)\n",
    "summary(e)"
   ]
  },
  {
   "cell_type": "markdown",
   "metadata": {},
   "source": [
    "# ①"
   ]
  },
  {
   "cell_type": "code",
   "execution_count": 60,
   "metadata": {},
   "outputs": [
    {
     "data": {
      "image/png": "[encoded data removed]",
      "text/plain": [
       "plot without title"
      ]
     },
     "metadata": {},
     "output_type": "display_data"
    }
   ],
   "source": [
    "y = a + b * x + e\n",
    "\n",
    "# Show result\n",
    "plot(x, y, ylim=c(0, max(y)), yaxs=\"i\", xaxs=\"i\", pch=21, bg=\"lightgreen\")\n",
    "abline(a=a, b=b, lty=2)"
   ]
  },
  {
   "cell_type": "markdown",
   "metadata": {},
   "source": [
    "# ②"
   ]
  },
  {
   "cell_type": "markdown",
   "metadata": {},
   "source": [
    "## MKM metodo implementavimas"
   ]
  },
  {
   "cell_type": "markdown",
   "metadata": {},
   "source": [
    "MKM tiesinį modeliavimą įvertinsime su šiais duomenų rinkiniais\n",
    "\n",
    "$$y = 0 + 1x$$\n",
    "\n",
    "x|y\n",
    "-|-\n",
    "1|1\n",
    "2|2\n",
    "3|3\n",
    "\n",
    "---\n",
    "\n",
    "$$y = 1 + 2x$$\n",
    "\n",
    "x|y\n",
    "-|-\n",
    "1|3\n",
    "2|5\n",
    "3|7"
   ]
  },
  {
   "cell_type": "markdown",
   "metadata": {},
   "source": [
    "##### Netinkama MKM implementacija"
   ]
  },
  {
   "cell_type": "code",
   "execution_count": 61,
   "metadata": {
    "scrolled": true
   },
   "outputs": [
    {
     "data": {
      "text/html": [
       "<table>\n",
       "<thead><tr><th scope=col>a</th><th scope=col>b</th></tr></thead>\n",
       "<tbody>\n",
       "\t<tr><td>1.25 </td><td>0.375</td></tr>\n",
       "</tbody>\n",
       "</table>\n"
      ],
      "text/latex": [
       "\\begin{tabular}{r|ll}\n",
       " a & b\\\\\n",
       "\\hline\n",
       "\t 1.25  & 0.375\\\\\n",
       "\\end{tabular}\n"
      ],
      "text/markdown": [
       "\n",
       "| a | b |\n",
       "|---|---|\n",
       "| 1.25  | 0.375 |\n",
       "\n"
      ],
      "text/plain": [
       "  a    b    \n",
       "1 1.25 0.375"
      ]
     },
     "metadata": {},
     "output_type": "display_data"
    }
   ],
   "source": [
    "fit_linear_model = function(x, y) {\n",
    "    stopifnot(length(x) == length(y))\n",
    "    n = length(x)\n",
    "    \n",
    "    b = cov(x,y) / (mean(x^2) - mean(x))\n",
    "    a = mean(y) - b * mean(x)\n",
    "\n",
    "    return(data.frame(a=a, b=b))\n",
    "}\n",
    "#stopifnot(fit_linear_model(c(1,2,3), c(1,2,3)) == c(a=0, b=1))\n",
    "#stopifnot(fit_linear_model(c(1,2,3), c(3,5,7)) == c(a=1, b=2))\n",
    "fit_linear_model(c(1,2,3), c(1,2,3))"
   ]
  },
  {
   "cell_type": "markdown",
   "metadata": {},
   "source": [
    "Metodas netinkamas, turėjome gauti $a=0$ ir $b=1$."
   ]
  },
  {
   "cell_type": "markdown",
   "metadata": {},
   "source": [
    "##### MKM implementacija"
   ]
  },
  {
   "cell_type": "code",
   "execution_count": 62,
   "metadata": {},
   "outputs": [],
   "source": [
    "fit_linear_model = function(x, y) {\n",
    "    stopifnot(length(x) == length(y))\n",
    "    n = length(x)\n",
    "    \n",
    "    b = (n * sum(x*y) - sum(x) * sum(y)) / (n * sum(x^2) - sum(x)^2)\n",
    "    a = (sum(y) - b * sum(x)) / n\n",
    "\n",
    "    return(data.frame(a=a, b=b))\n",
    "}\n",
    "stopifnot(fit_linear_model(c(1,2,3), c(1,2,3)) == data.frame(a=0, b=1))\n",
    "stopifnot(fit_linear_model(c(1,2,3), c(3,5,7)) == data.frame(a=1, b=2))"
   ]
  },
  {
   "cell_type": "markdown",
   "metadata": {},
   "source": [
    "Implementacija tinkama."
   ]
  },
  {
   "cell_type": "markdown",
   "metadata": {},
   "source": [
    "## Modeliavimas"
   ]
  },
  {
   "cell_type": "code",
   "execution_count": 63,
   "metadata": {
    "scrolled": false
   },
   "outputs": [
    {
     "name": "stdout",
     "output_type": "stream",
     "text": [
      "Tikrosios reikšmės:"
     ]
    },
    {
     "data": {
      "text/html": [
       "<table>\n",
       "<thead><tr><th scope=col>a</th><th scope=col>b</th></tr></thead>\n",
       "<tbody>\n",
       "\t<tr><td>0.5</td><td>0.4</td></tr>\n",
       "</tbody>\n",
       "</table>\n"
      ],
      "text/latex": [
       "\\begin{tabular}{r|ll}\n",
       " a & b\\\\\n",
       "\\hline\n",
       "\t 0.5 & 0.4\\\\\n",
       "\\end{tabular}\n"
      ],
      "text/markdown": [
       "\n",
       "| a | b |\n",
       "|---|---|\n",
       "| 0.5 | 0.4 |\n",
       "\n"
      ],
      "text/plain": [
       "  a   b  \n",
       "1 0.5 0.4"
      ]
     },
     "metadata": {},
     "output_type": "display_data"
    },
    {
     "name": "stdout",
     "output_type": "stream",
     "text": [
      "Rastos reiškmės:"
     ]
    },
    {
     "data": {
      "text/html": [
       "<table>\n",
       "<thead><tr><th scope=col>a</th><th scope=col>b</th></tr></thead>\n",
       "<tbody>\n",
       "\t<tr><td>0.4844753</td><td>0.4097861</td></tr>\n",
       "</tbody>\n",
       "</table>\n"
      ],
      "text/latex": [
       "\\begin{tabular}{r|ll}\n",
       " a & b\\\\\n",
       "\\hline\n",
       "\t 0.4844753 & 0.4097861\\\\\n",
       "\\end{tabular}\n"
      ],
      "text/markdown": [
       "\n",
       "| a | b |\n",
       "|---|---|\n",
       "| 0.4844753 | 0.4097861 |\n",
       "\n"
      ],
      "text/plain": [
       "  a         b        \n",
       "1 0.4844753 0.4097861"
      ]
     },
     "metadata": {},
     "output_type": "display_data"
    },
    {
     "data": {
      "image/png": "[encoded data removed]",
      "text/plain": [
       "plot without title"
      ]
     },
     "metadata": {},
     "output_type": "display_data"
    }
   ],
   "source": [
    "model = fit_linear_model(x,y)\n",
    "\n",
    "cat(\"Tikrosios reikšmės:\")\n",
    "data.frame(a=a, b=b)\n",
    "cat(\"Rastos reiškmės:\")\n",
    "model\n",
    "\n",
    "# Show result\n",
    "plot(x, y, ylim=c(0, max(y)), yaxs=\"i\", xaxs=\"i\", pch=21, bg=\"lightgreen\")\n",
    "abline(a=a, b=b, lty=2)\n",
    "abline(a = model$a, b = model$b, col=\"red\", lty=2)\n",
    "legend(\"topleft\", lty = c(2, NA, 2), col=c(1, NA, 2),\n",
    "       legend = c(\"Tiesa\", NA, \"MKM\"))"
   ]
  },
  {
   "cell_type": "markdown",
   "metadata": {},
   "source": [
    "## Klausimai"
   ]
  },
  {
   "cell_type": "markdown",
   "metadata": {},
   "source": [
    "#### Kiek $\\hat{a}$ ir $\\hat{b}$ skiriasi nuo $a$ ir $b$ ?\n",
    "Rasime absoliutų skirtumą:"
   ]
  },
  {
   "cell_type": "code",
   "execution_count": 64,
   "metadata": {
    "scrolled": false
   },
   "outputs": [
    {
     "data": {
      "text/html": [
       "<table>\n",
       "<thead><tr><th scope=col>a</th><th scope=col>b</th></tr></thead>\n",
       "<tbody>\n",
       "\t<tr><td>0.01552475 </td><td>0.009786074</td></tr>\n",
       "</tbody>\n",
       "</table>\n"
      ],
      "text/latex": [
       "\\begin{tabular}{r|ll}\n",
       " a & b\\\\\n",
       "\\hline\n",
       "\t 0.01552475  & 0.009786074\\\\\n",
       "\\end{tabular}\n"
      ],
      "text/markdown": [
       "\n",
       "| a | b |\n",
       "|---|---|\n",
       "| 0.01552475  | 0.009786074 |\n",
       "\n"
      ],
      "text/plain": [
       "  a          b          \n",
       "1 0.01552475 0.009786074"
      ]
     },
     "metadata": {},
     "output_type": "display_data"
    }
   ],
   "source": [
    "data.frame(a=abs(model$a - a), b=abs(model$b - b))"
   ]
  },
  {
   "cell_type": "markdown",
   "metadata": {},
   "source": [
    "#### Kaip skirtumas ($\\hat{a}$ ir $\\hat{b}$  nuo tikrųjų $a$ ir $b$ reikšmių) priklauso nuo paklaidų taisyklės?\n",
    "MKM tuo tiksliau ras tikrąsias $a$ ir $b$ reikšmes, kuo paklaidų taisyklės tikimybinis pasiskirstymo tankis bus simetriškesnis."
   ]
  },
  {
   "cell_type": "markdown",
   "metadata": {},
   "source": [
    "---\n",
    "\n",
    "# Ⅱ"
   ]
  },
  {
   "cell_type": "code",
   "execution_count": 65,
   "metadata": {},
   "outputs": [],
   "source": [
    "N = 100\n",
    "a = c(3, 0)\n",
    "b = c(-1, 1)\n",
    "x.min = 0\n",
    "x.max = 3\n",
    "z.prob = .4\n",
    "e.mean = 0\n",
    "e.sd = .2"
   ]
  },
  {
   "cell_type": "code",
   "execution_count": 66,
   "metadata": {
    "scrolled": true
   },
   "outputs": [
    {
     "data": {
      "text/html": [
       "<table>\n",
       "<thead><tr><th scope=col>x</th><th scope=col>y</th><th scope=col>z</th></tr></thead>\n",
       "<tbody>\n",
       "\t<tr><td>0.9083840</td><td>2.2941586</td><td>1        </td></tr>\n",
       "\t<tr><td>0.2603408</td><td>2.7573650</td><td>1        </td></tr>\n",
       "\t<tr><td>0.5256296</td><td>2.3389924</td><td>1        </td></tr>\n",
       "\t<tr><td>2.5861804</td><td>0.4156146</td><td>1        </td></tr>\n",
       "\t<tr><td>1.2324869</td><td>1.7841307</td><td>1        </td></tr>\n",
       "\t<tr><td>1.0162348</td><td>1.4002507</td><td>2        </td></tr>\n",
       "</tbody>\n",
       "</table>\n"
      ],
      "text/latex": [
       "\\begin{tabular}{r|lll}\n",
       " x & y & z\\\\\n",
       "\\hline\n",
       "\t 0.9083840 & 2.2941586 & 1        \\\\\n",
       "\t 0.2603408 & 2.7573650 & 1        \\\\\n",
       "\t 0.5256296 & 2.3389924 & 1        \\\\\n",
       "\t 2.5861804 & 0.4156146 & 1        \\\\\n",
       "\t 1.2324869 & 1.7841307 & 1        \\\\\n",
       "\t 1.0162348 & 1.4002507 & 2        \\\\\n",
       "\\end{tabular}\n"
      ],
      "text/markdown": [
       "\n",
       "| x | y | z |\n",
       "|---|---|---|\n",
       "| 0.9083840 | 2.2941586 | 1         |\n",
       "| 0.2603408 | 2.7573650 | 1         |\n",
       "| 0.5256296 | 2.3389924 | 1         |\n",
       "| 2.5861804 | 0.4156146 | 1         |\n",
       "| 1.2324869 | 1.7841307 | 1         |\n",
       "| 1.0162348 | 1.4002507 | 2         |\n",
       "\n"
      ],
      "text/plain": [
       "  x         y         z\n",
       "1 0.9083840 2.2941586 1\n",
       "2 0.2603408 2.7573650 1\n",
       "3 0.5256296 2.3389924 1\n",
       "4 2.5861804 0.4156146 1\n",
       "5 1.2324869 1.7841307 1\n",
       "6 1.0162348 1.4002507 2"
      ]
     },
     "metadata": {},
     "output_type": "display_data"
    },
    {
     "data": {
      "text/plain": [
       "       x                y                 z       \n",
       " Min.   :0.0362   Min.   :-0.1960   Min.   :1.00  \n",
       " 1st Qu.:0.8252   1st Qu.: 0.7564   1st Qu.:1.00  \n",
       " Median :1.5010   Median : 1.5424   Median :1.00  \n",
       " Mean   :1.5656   Mean   : 1.5736   Mean   :1.43  \n",
       " 3rd Qu.:2.4468   3rd Qu.: 2.3540   3rd Qu.:2.00  \n",
       " Max.   :2.9753   Max.   : 3.2256   Max.   :2.00  "
      ]
     },
     "metadata": {},
     "output_type": "display_data"
    }
   ],
   "source": [
    "get_dataset = function(n) {\n",
    "    x = runif(N, min = x.min, max = x.max)\n",
    "    z = 1 + rbinom(N, size = 1, prob = z.prob)\n",
    "    e = rnorm(N, mean = e.mean, sd = e.sd)\n",
    "    y = NA\n",
    "    y[z==1] = a[1] + b[1] * x[z==1] + e[z==1]\n",
    "    y[z==2] = a[2] + b[2] * x[z==2] + e[z==2]\n",
    "    return(data.frame(x=x, y=y, z=z))\n",
    "}\n",
    "\n",
    "D = get_dataset(N)\n",
    "\n",
    "# Show result\n",
    "head(D)\n",
    "summary(D)"
   ]
  },
  {
   "cell_type": "markdown",
   "metadata": {},
   "source": [
    "## Ką šis modelis galėtų modeliuoti?\n",
    "Duotas modelis modeliuoja taškus kurių kiekvienas pasiskirstęs aplink vieną iš dviejų tiesių."
   ]
  },
  {
   "cell_type": "markdown",
   "metadata": {},
   "source": [
    "## Rasti $\\hat{a_1}, \\hat{a_2}, \\hat{b_1}, \\hat{b_2}$"
   ]
  },
  {
   "cell_type": "code",
   "execution_count": 67,
   "metadata": {
    "scrolled": false
   },
   "outputs": [
    {
     "name": "stdout",
     "output_type": "stream",
     "text": [
      "Tikrosios reikšmės:"
     ]
    },
    {
     "data": {
      "text/html": [
       "<table>\n",
       "<thead><tr><th scope=col>a1</th><th scope=col>a2</th><th scope=col>b1</th><th scope=col>b2</th></tr></thead>\n",
       "<tbody>\n",
       "\t<tr><td>3 </td><td>0 </td><td>-1</td><td>1 </td></tr>\n",
       "</tbody>\n",
       "</table>\n"
      ],
      "text/latex": [
       "\\begin{tabular}{r|llll}\n",
       " a1 & a2 & b1 & b2\\\\\n",
       "\\hline\n",
       "\t 3  & 0  & -1 & 1 \\\\\n",
       "\\end{tabular}\n"
      ],
      "text/markdown": [
       "\n",
       "| a1 | a2 | b1 | b2 |\n",
       "|---|---|---|---|\n",
       "| 3  | 0  | -1 | 1  |\n",
       "\n"
      ],
      "text/plain": [
       "  a1 a2 b1 b2\n",
       "1 3  0  -1 1 "
      ]
     },
     "metadata": {},
     "output_type": "display_data"
    },
    {
     "name": "stdout",
     "output_type": "stream",
     "text": [
      "Rastos reiškmės:"
     ]
    },
    {
     "data": {
      "text/html": [
       "<table>\n",
       "<thead><tr><th scope=col>a1.est</th><th scope=col>a2.est</th><th scope=col>b1.est</th><th scope=col>b2.est</th></tr></thead>\n",
       "<tbody>\n",
       "\t<tr><td>2.995158  </td><td>0.01540307</td><td>-0.9940737</td><td>1.015941  </td></tr>\n",
       "</tbody>\n",
       "</table>\n"
      ],
      "text/latex": [
       "\\begin{tabular}{r|llll}\n",
       " a1.est & a2.est & b1.est & b2.est\\\\\n",
       "\\hline\n",
       "\t 2.995158   & 0.01540307 & -0.9940737 & 1.015941  \\\\\n",
       "\\end{tabular}\n"
      ],
      "text/markdown": [
       "\n",
       "| a1.est | a2.est | b1.est | b2.est |\n",
       "|---|---|---|---|\n",
       "| 2.995158   | 0.01540307 | -0.9940737 | 1.015941   |\n",
       "\n"
      ],
      "text/plain": [
       "  a1.est   a2.est     b1.est     b2.est  \n",
       "1 2.995158 0.01540307 -0.9940737 1.015941"
      ]
     },
     "metadata": {},
     "output_type": "display_data"
    },
    {
     "data": {
      "image/png": "[encoded data removed]",
      "text/plain": [
       "plot without title"
      ]
     },
     "metadata": {},
     "output_type": "display_data"
    }
   ],
   "source": [
    "D1 = D[D$z==1,]\n",
    "model1 = fit_linear_model(D1$x, D1$y)\n",
    "\n",
    "D2 = D[D$z==2,]\n",
    "model2 = fit_linear_model(D2$x, D2$y)\n",
    "\n",
    "\n",
    "cat(\"Tikrosios reikšmės:\")\n",
    "data.frame(a1=a[1], a2=a[2], \n",
    "           b1=b[1], b2=b[2])\n",
    "cat(\"Rastos reiškmės:\")\n",
    "data.frame(a1.est=model1$a, a2.est=model2$a, \n",
    "           b1.est=model1$b, b2.est=model2$b)\n",
    "\n",
    "# Show result\n",
    "plot(D1$x, D1$y, pch=21, bg=\"cyan\", xlab='x', ylab='y', xlim=range(D$x), ylim=range(D$y))\n",
    "abline(a=a[1], b=b[1], col=\"cyan\", lty=2)\n",
    "points(D2$x, D2$y, pch=21, bg=\"pink\", xlab='x', ylab='y')\n",
    "abline(a=a[2], b=b[2], col=\"pink\", lty=2)"
   ]
  },
  {
   "cell_type": "markdown",
   "metadata": {},
   "source": [
    "## Rasti $\\hat{a}, \\hat{b}$"
   ]
  },
  {
   "cell_type": "markdown",
   "metadata": {},
   "source": [
    "Rasime a, b reikšmes visam duomenų rinkiniui prieš tai pakeitę paslinkę antrosios duomenų rinkinio dalies taškus (Keisime $\\{x_2\\}$ ir $\\{y_2\\}$ reikšmes)"
   ]
  },
  {
   "cell_type": "code",
   "execution_count": 130,
   "metadata": {},
   "outputs": [],
   "source": [
    "fit_and_plot_with_shift = function(x.shift, y.shift) {\n",
    "    D[D$z==2,]$x = D[D$z==2,]$x + x.shift\n",
    "    D[D$z==2,]$y = D[D$z==2,]$y + y.shift\n",
    "    \n",
    "    model = fit_linear_model(D$x, D$y)\n",
    "    cat('a =', model$a, '\\nb = ', model$b)\n",
    "    \n",
    "    \n",
    "    # Show result\n",
    "    D1 = D[D$z==1,]\n",
    "    model1 = fit_linear_model(D1$x, D1$y)\n",
    "    D2 = D[D$z==2,]\n",
    "    model2 = fit_linear_model(D2$x, D2$y)\n",
    "    \n",
    "    plot(D1$x, D1$y, pch=21, bg=\"cyan\", xlab='x', ylab='y', xlim=range(D$x), ylim=range(D$y))\n",
    "    abline(a=a[1], b=b[1], col=\"cyan\", lty=2)\n",
    "    points(D2$x, D2$y, pch=21, bg=\"pink\", xlab='x', ylab='y')\n",
    "    abline(a=a[2] - x.shift + y.shift, b=b[2], col=\"pink\", lty=2)\n",
    "    abline(a=model$a, b=model$b, col=\"darkgray\", lty=2)\n",
    "}"
   ]
  },
  {
   "cell_type": "code",
   "execution_count": 133,
   "metadata": {},
   "outputs": [
    {
     "name": "stdout",
     "output_type": "stream",
     "text": [
      "a = 1.851328 \n",
      "b =  -0.1774188"
     ]
    },
    {
     "data": {
      "image/png": "[encoded data removed]",
      "text/plain": [
       "plot without title"
      ]
     },
     "metadata": {},
     "output_type": "display_data"
    }
   ],
   "source": [
    "fit_and_plot_with_shift(x.shift=0, y.shift=0)"
   ]
  },
  {
   "cell_type": "code",
   "execution_count": 134,
   "metadata": {
    "scrolled": false
   },
   "outputs": [
    {
     "name": "stdout",
     "output_type": "stream",
     "text": [
      "a = 0.9422716 \n",
      "b =  0.4634492"
     ]
    },
    {
     "data": {
      "image/png": "[encoded data removed]",
      "text/plain": [
       "plot without title"
      ]
     },
     "metadata": {},
     "output_type": "display_data"
    }
   ],
   "source": [
    "fit_and_plot_with_shift(x.shift=6, y.shift=3)"
   ]
  },
  {
   "cell_type": "markdown",
   "metadata": {},
   "source": [
    "## Į ką artės $\\hat{a}$ ir $\\hat{b}$, kai $\\{x_2\\} \\rightarrow \\infty$, $\\{x_1\\} \\rightarrow -\\infty$ ?\n",
    "$$\\{\\hat{a}\\} \\rightarrow \\bar{x}$$\n",
    "$$\\{\\hat{b}\\} \\rightarrow 0$$"
   ]
  },
  {
   "cell_type": "code",
   "execution_count": null,
   "metadata": {},
   "outputs": [],
   "source": []
  },
  {
   "cell_type": "code",
   "execution_count": null,
   "metadata": {},
   "outputs": [],
   "source": []
  }
 ],
 "metadata": {
  "kernelspec": {
   "display_name": "R",
   "language": "R",
   "name": "ir"
  },
  "language_info": {
   "codemirror_mode": "r",
   "file_extension": ".r",
   "mimetype": "text/x-r-source",
   "name": "R",
   "pygments_lexer": "r",
   "version": "3.5.1"
  }
 },
 "nbformat": 4,
 "nbformat_minor": 2
}
